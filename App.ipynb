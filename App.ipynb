{
 "cells": [
  {
   "cell_type": "markdown",
   "metadata": {},
   "source": [
    "# spam_tweet_detector\n",
    "\n",
    "Utilizing 3 machine learning models, SVM, LSTM and Naive Bayes, to identify 'Spam' or 'Quality' tweet.\n",
    "\n",
    "The models have been trained in advance. If you want to see the Project itself including how the model architectures were chosen and deep analysis on performance, have a look at this [repo](https://github.com/rodonguyen/showcase_AI_ML/tree/master/1.%20Twitter%20Spam%20Detection)."
   ]
  },
  {
   "cell_type": "markdown",
   "metadata": {},
   "source": [
    "# Prepare"
   ]
  },
  {
   "cell_type": "code",
   "execution_count": 1,
   "metadata": {
    "scrolled": true
   },
   "outputs": [
    {
     "name": "stdout",
     "output_type": "stream",
     "text": [
      "['Quality']\n",
      "Tweet content is empty, an example is used instead.\n",
      "following    2.991968e+04\n",
      "followers    3.942984e+06\n",
      "actions      1.431713e+04\n",
      "dtype: float64 following      4743.403905\n",
      "followers    366142.020878\n",
      "actions        7232.714680\n",
      "dtype: float64\n"
     ]
    }
   ],
   "source": [
    "# Importing libraries\n",
    "import os\n",
    "os.environ['TF_CPP_MIN_LOG_LEVEL'] = '3'\n",
    "import utils, utils_lstm, utils_naive_bayes, utils_svm, pandas\n",
    "# sys.modules.pop('utils')\n",
    "\n",
    "try:\n",
    "    tweet_content\n",
    "    print(\"All necessary values are defined.\")\n",
    "except:\n",
    "    print(\"Tweet content is empty, an example is used instead.\")\n",
    "    tweet_content = \"Big day.  #WeTheNorth #yyz #thesix #sunset #skyline @ The Six https://www.instagram.com/p/BFgrA9gBZay/\"\n",
    "    following, followers, actions, is_retweet = 4743, 366142, 7232, 0\n",
    "\n",
    "\n",
    "# Load Model\n",
    "lstm_model = utils_lstm.load_LSTM_model()\n",
    "nb_model = utils_naive_bayes.load_naive_bayes_model()\n",
    "svm_model = utils_svm.load_svm_model()\n",
    "\n",
    "# Prepare data\n",
    "lstm_tweet_tensor, lstm_others_col_std = utils_lstm.preprocessing_input([[tweet_content, following, followers, actions, is_retweet]])\n",
    "nb_input = utils_naive_bayes.preprocess_input([tweet_content])\n",
    "svm_input = utils_svm.preprocess_input([[tweet_content, following, followers, actions, is_retweet]])\n",
    "\n"
   ]
  },
  {
   "cell_type": "markdown",
   "metadata": {},
   "source": [
    "# Predict"
   ]
  },
  {
   "cell_type": "code",
   "execution_count": 2,
   "metadata": {},
   "outputs": [
    {
     "name": "stdout",
     "output_type": "stream",
     "text": [
      "1/1 [==============================] - 0s 409ms/step\n"
     ]
    },
    {
     "data": {
      "text/html": [
       "<div>\n",
       "<style scoped>\n",
       "    .dataframe tbody tr th:only-of-type {\n",
       "        vertical-align: middle;\n",
       "    }\n",
       "\n",
       "    .dataframe tbody tr th {\n",
       "        vertical-align: top;\n",
       "    }\n",
       "\n",
       "    .dataframe thead th {\n",
       "        text-align: right;\n",
       "    }\n",
       "</style>\n",
       "<table border=\"1\" class=\"dataframe\">\n",
       "  <thead>\n",
       "    <tr style=\"text-align: right;\">\n",
       "      <th></th>\n",
       "      <th>model</th>\n",
       "      <th>prediction</th>\n",
       "    </tr>\n",
       "  </thead>\n",
       "  <tbody>\n",
       "    <tr>\n",
       "      <th>0</th>\n",
       "      <td>LSTM</td>\n",
       "      <td>Quality</td>\n",
       "    </tr>\n",
       "    <tr>\n",
       "      <th>1</th>\n",
       "      <td>Naive Bayes</td>\n",
       "      <td>Quality</td>\n",
       "    </tr>\n",
       "    <tr>\n",
       "      <th>2</th>\n",
       "      <td>SVM</td>\n",
       "      <td>Quality</td>\n",
       "    </tr>\n",
       "  </tbody>\n",
       "</table>\n",
       "</div>"
      ],
      "text/plain": [
       "         model prediction\n",
       "0         LSTM    Quality\n",
       "1  Naive Bayes    Quality\n",
       "2          SVM    Quality"
      ]
     },
     "execution_count": 2,
     "metadata": {},
     "output_type": "execute_result"
    }
   ],
   "source": [
    "prediction = pandas.DataFrame(\n",
    "  [\n",
    "    ['LSTM', (lstm_model.predict([lstm_tweet_tensor, lstm_others_col_std]) >= 0.5)],\n",
    "    ['Naive Bayes', nb_model.predict(nb_input)[0]],\n",
    "    ['SVM', svm_model.predict(svm_input)[0]]\n",
    "  ], \n",
    "  columns=['model', 'prediction'])\n",
    "prediction[prediction == True] = \"Spam by bot\"\n",
    "prediction[prediction == False] = \"Quality\"\n",
    "prediction"
   ]
  },
  {
   "cell_type": "code",
   "execution_count": 3,
   "metadata": {},
   "outputs": [],
   "source": [
    "# Quality examples\n",
    "# Spam examples\n",
    "# single_input = {'tweet': ['aaaaa trump win twitter cash'],'following': [100], 'followers': [200], 'actions': [33], 'is_retweet':[1] }\n",
    "# single_input = {'tweet': ['EBMUD ending penalties for excessive water users https://t.co/D5a1FMVMHd'],'following': [4435], 'followers': [16000], 'actions': [27000], 'is_retweet':[0] }\n",
    "# single_input = {'tweet': ['aaaaaaaaaaaaaaaaaaaaa hell trump'],'following': [8221], 'followers': [4553], 'actions': [27858], 'is_retweet':[0] }\n"
   ]
  }
 ],
 "metadata": {
  "kernelspec": {
   "display_name": "Python 3.10.6 64-bit",
   "language": "python",
   "name": "python3"
  },
  "language_info": {
   "codemirror_mode": {
    "name": "ipython",
    "version": 3
   },
   "file_extension": ".py",
   "mimetype": "text/x-python",
   "name": "python",
   "nbconvert_exporter": "python",
   "pygments_lexer": "ipython3",
   "version": "3.8.10"
  },
  "vscode": {
   "interpreter": {
    "hash": "916dbcbb3f70747c44a77c7bcd40155683ae19c65e1c03b4aa3499c5328201f1"
   }
  }
 },
 "nbformat": 4,
 "nbformat_minor": 2
}
