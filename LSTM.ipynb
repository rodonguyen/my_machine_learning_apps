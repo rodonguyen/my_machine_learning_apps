{
 "cells": [
  {
   "cell_type": "raw",
   "metadata": {},
   "source": [
    "---\n",
    "title: Twitter Spam Detection with LSTM Model\n",
    "# description: My first notebook shared on Mercury\n",
    "params:\n",
    "    tweet_content:\n",
    "        input: text\n",
    "        label: Tweet content\n",
    "        value: \"It's the everything else that's complicated. #PESummit #PXpic.twitter.com/Jsv6BA\"\n",
    "    following:\n",
    "        input: slider\n",
    "        label: Select the number of followings of the tweet owner\n",
    "        value: 4743\n",
    "        min: 0\n",
    "        max: 100000\n",
    "    followers:\n",
    "        input: slider\n",
    "        label: Select the number of followers of the tweet owner\n",
    "        value: 366142\n",
    "        min: 0\n",
    "        max: 100000\n",
    "    actions:\n",
    "        input: slider\n",
    "        label: The total number of favourites, replies, and retweets associated with the tweet\n",
    "        value: 7232\n",
    "        min: 0\n",
    "        max: 100000\n",
    "    is_retweet:\n",
    "        input: slider\n",
    "        label: Whether the tweet is a retweet \n",
    "        value: 0\n",
    "        min: 0\n",
    "        max: 1\n",
    "---"
   ]
  },
  {
   "cell_type": "markdown",
   "metadata": {},
   "source": [
    "# Prepare"
   ]
  },
  {
   "cell_type": "code",
   "execution_count": 1,
   "metadata": {
    "scrolled": true
   },
   "outputs": [
    {
     "name": "stdout",
     "output_type": "stream",
     "text": [
      "Tweet content is empty, an example is used instead.\n",
      "following    2.991968e+04\n",
      "followers    3.942984e+06\n",
      "actions      1.431713e+04\n",
      "dtype: float64 following      4743.403905\n",
      "followers    366142.020878\n",
      "actions        7232.714680\n",
      "dtype: float64\n"
     ]
    }
   ],
   "source": [
    "# Importing libraries\n",
    "import os\n",
    "os.environ['TF_CPP_MIN_LOG_LEVEL'] = '3'\n",
    "import utils, utils_lstm, pandas\n",
    "# sys.modules.pop('utils')\n",
    "\n",
    "\n",
    "# Load Model\n",
    "lstm_model_2input = utils_lstm.load_LSTM_model()\n",
    "\n",
    "\n",
    "# Prepare data\n",
    "try:\n",
    "    tweet_content\n",
    "    print(\"All necessary values are defined.\")\n",
    "except:\n",
    "    print(\"Tweet content is empty, an example is used instead.\")\n",
    "    tweet_content = \"Big day.  #WeTheNorth #yyz #thesix #sunset #skyline @ The Six https://www.instagram.com/p/BFgrA9gBZay/\"\n",
    "    # following, followers, actions, is_retweet = 4743, 366142, 7232, 0\n",
    "\n",
    "single_input = {'tweet': [tweet_content],'following': [following], 'followers': [followers], 'actions': [actions], 'is_retweet':[is_retweet] }\n",
    "tweet_tensor, others_col_std = utils_lstm.preprocessing_input(single_input)"
   ]
  },
  {
   "cell_type": "markdown",
   "metadata": {},
   "source": [
    "# Predict"
   ]
  },
  {
   "cell_type": "code",
   "execution_count": 10,
   "metadata": {},
   "outputs": [
    {
     "name": "stdout",
     "output_type": "stream",
     "text": [
      "1/1 [==============================] - 0s 17ms/step\n"
     ]
    },
    {
     "data": {
      "text/html": [
       "<div>\n",
       "<style scoped>\n",
       "    .dataframe tbody tr th:only-of-type {\n",
       "        vertical-align: middle;\n",
       "    }\n",
       "\n",
       "    .dataframe tbody tr th {\n",
       "        vertical-align: top;\n",
       "    }\n",
       "\n",
       "    .dataframe thead th {\n",
       "        text-align: right;\n",
       "    }\n",
       "</style>\n",
       "<table border=\"1\" class=\"dataframe\">\n",
       "  <thead>\n",
       "    <tr style=\"text-align: right;\">\n",
       "      <th></th>\n",
       "      <th>0</th>\n",
       "    </tr>\n",
       "  </thead>\n",
       "  <tbody>\n",
       "    <tr>\n",
       "      <th>0</th>\n",
       "      <td>Not spam</td>\n",
       "    </tr>\n",
       "  </tbody>\n",
       "</table>\n",
       "</div>"
      ],
      "text/plain": [
       "          0\n",
       "0  Not spam"
      ]
     },
     "execution_count": 10,
     "metadata": {},
     "output_type": "execute_result"
    }
   ],
   "source": [
    "prediction = pandas.DataFrame(lstm_model_2input.predict([tweet_tensor, others_col_std]) >= 0.5)\n",
    "prediction[prediction == True] = \"Spam by bot\"\n",
    "prediction[prediction == False] = \"Not spam\"\n",
    "prediction"
   ]
  },
  {
   "cell_type": "code",
   "execution_count": null,
   "metadata": {},
   "outputs": [],
   "source": [
    "# Quality examples\n",
    "# Spam examples\n",
    "# single_input = {'tweet': ['aaaaa trump win twitter cash'],'following': [100], 'followers': [200], 'actions': [33], 'is_retweet':[1] }\n",
    "# single_input = {'tweet': ['EBMUD ending penalties for excessive water users https://t.co/D5a1FMVMHd'],'following': [4435], 'followers': [16000], 'actions': [27000], 'is_retweet':[0] }\n",
    "# single_input = {'tweet': ['aaaaaaaaaaaaaaaaaaaaa hell trump'],'following': [8221], 'followers': [4553], 'actions': [27858], 'is_retweet':[0] }\n"
   ]
  }
 ],
 "metadata": {
  "kernelspec": {
   "display_name": "Python 3.10.6 ('my_venv': venv)",
   "language": "python",
   "name": "python3"
  },
  "language_info": {
   "codemirror_mode": {
    "name": "ipython",
    "version": 3
   },
   "file_extension": ".py",
   "mimetype": "text/x-python",
   "name": "python",
   "nbconvert_exporter": "python",
   "pygments_lexer": "ipython3",
   "version": "3.10.6"
  },
  "vscode": {
   "interpreter": {
    "hash": "8c16a8c7789135ad7a32b4288e57fa74a47792c2a87efaa1f16f7643b54c03cc"
   }
  }
 },
 "nbformat": 4,
 "nbformat_minor": 2
}
