{
 "cells": [
  {
   "cell_type": "raw",
   "metadata": {},
   "source": [
    "---\n",
    "title: Twitter Spam Detection with LSTM Model\n",
    "# description: My first notebook shared on Mercury\n",
    "params:\n",
    "    tweet_content:\n",
    "        input: text\n",
    "        label: Tweet content\n",
    "        value: \"It's the everything else that's complicated. #PESummit #PXpic.twitter.com/Jsv6BA\"\n",
    "    year:\n",
    "        input: slider\n",
    "        label: Select year\n",
    "        value: 2022\n",
    "        min: 2021\n",
    "        max: 2030\n",
    "---"
   ]
  },
  {
   "cell_type": "code",
   "execution_count": 15,
   "metadata": {
    "scrolled": true
   },
   "outputs": [],
   "source": [
    "import utils, numpy, pandas, tensorflow, os, sys\n",
    "from tensorflow import keras\n",
    "# tensorflow.compat.v1.logging.set_verbosity(tensorflow.compat.v1.logging.ERROR)\n",
    "os.environ['TF_CPP_MIN_LOG_LEVEL'] = '3'\n",
    "sys.modules.pop('utils')\n",
    "import utils"
   ]
  },
  {
   "cell_type": "markdown",
   "metadata": {},
   "source": [
    "# Load Model"
   ]
  },
  {
   "cell_type": "code",
   "execution_count": 16,
   "metadata": {},
   "outputs": [],
   "source": [
    "max_tweet_length = 106    # from training\n",
    "inputA = keras.layers.Input(shape = (max_tweet_length,1), name = 'tokenised_tweets')\n",
    "x = keras.layers.LSTM(128, return_sequences=True)(inputA)\n",
    "x = keras.layers.LSTM(64)(x)\n",
    "# x = LSTM(128)(inputA)\n",
    "x = keras.layers.Dropout(0.2)(x)\n",
    "x = keras.layers.Dense(32, activation='relu')(x)\n",
    "\n",
    "\n",
    "inputB = keras.layers.Input(shape=(4,1), name='others')\n",
    "y = keras.layers.Flatten()(inputB)\n",
    "y = keras.layers.Dense(4, activation='relu')(y)\n",
    "\n",
    "combined = keras.layers.concatenate([x,y])\n",
    "output = keras.layers.Dense(32, activation='relu')(combined)\n",
    "output = keras.layers.Dropout(0.2)(output)\n",
    "output = keras.layers.Dense(1, activation='sigmoid')(output)\n",
    "lstm_model_2input = keras.models.Model([inputA, inputB], output)\n",
    "\n",
    "lstm_model_2input.compile(optimizer='adam', loss='binary_crossentropy', metrics=['accuracy'])\n",
    "\n",
    "\n",
    "lstm_model_2input.load_weights(\"LSTM_model_02_969.h5\")"
   ]
  },
  {
   "cell_type": "markdown",
   "metadata": {},
   "source": [
    "# Prepare data"
   ]
  },
  {
   "cell_type": "code",
   "execution_count": 17,
   "metadata": {},
   "outputs": [
    {
     "name": "stdout",
     "output_type": "stream",
     "text": [
      "0    it ' s the everything else that ' s complicate...\n",
      "Name: tweet, dtype: object\n",
      "[[   29     8    24     9   520   680    33     8    24  5797     1     3\n",
      "  17074     3     1    14     1    11     0     0     0     0     0     0\n",
      "      0     0     0     0     0     0     0     0     0     0     0     0\n",
      "      0     0     0     0     0     0     0     0     0     0     0     0\n",
      "      0     0     0     0     0     0     0     0     0     0     0     0\n",
      "      0     0     0     0     0     0     0     0     0     0     0     0\n",
      "      0     0     0     0     0     0     0     0     0     0     0     0\n",
      "      0     0     0     0     0     0     0     0     0     0     0     0\n",
      "      0     0     0     0     0     0     0     0     0     0]]\n",
      "(1, 106) (1, 106)\n",
      "   following  followers   actions  is_retweet\n",
      "0  -0.158538  -0.089943 -0.505179           0\n"
     ]
    }
   ],
   "source": [
    "# Quality examples\n",
    "# single_input = {'tweet': ['aaaaa trump win twitter cash'],'following': [100], 'followers': [200], 'actions': [33], 'is_retweet':[1] }\n",
    "single_input = {'tweet': [\"It's the everything else that's complicated. #PESummit #PXpic.twitter.com/Jsv6BAFQMl\"],'following': [0], 'followers': [11500], 'actions': [0], 'is_retweet':[0] }\n",
    "\n",
    "\n",
    "# Spam examples\n",
    "# single_input = {'tweet': ['EBMUD ending penalties for excessive water users https://t.co/D5a1FMVMHd'],'following': [4435], 'followers': [16000], 'actions': [27000], 'is_retweet':[0] }\n",
    "# single_input = {'tweet': ['aaaaaaaaaaaaaaaaaaaaa hell trump'],'following': [8221], 'followers': [4553], 'actions': [27858], 'is_retweet':[0] }\n",
    "\n",
    "\n",
    "\n",
    "columns_to_be_standardised = ['following', 'followers', 'actions']\n",
    "input_df = pandas.DataFrame(data=single_input)\n",
    "sigma, mu, tokenizer = utils.load_pickle('sigma_train.pkl'), utils.load_pickle('mu_train.pkl'), utils.load_pickle('tokeniser_train.pkl')\n",
    "\n",
    "# Process 'tweet'\n",
    "tweet_las, tweet_tokenised = utils.tokenise(input_df['tweet'], tokenizer)\n",
    "tweet_tensor = tensorflow.convert_to_tensor(tweet_tokenised)\n",
    "print(tweet_las)\n",
    "print(tweet_tokenised)\n",
    "print(tweet_tokenised.shape, tweet_tensor.shape)\n",
    "\n",
    "# Process 'following' 'followers' 'actions' 'is_retweet'\n",
    "others_col_std = utils.standardise(input_df, mu, sigma, columns_to_be_standardised)\n",
    "others_col_std.drop(['tweet'], axis=1, inplace=True)\n",
    "print(others_col_std)"
   ]
  },
  {
   "cell_type": "markdown",
   "metadata": {},
   "source": [
    "# Predict\n",
    "\n",
    "## Spam is 1, Not Spam is 0"
   ]
  },
  {
   "cell_type": "code",
   "execution_count": 18,
   "metadata": {},
   "outputs": [
    {
     "name": "stdout",
     "output_type": "stream",
     "text": [
      "1/1 [==============================] - 0s 387ms/step\n"
     ]
    },
    {
     "data": {
      "text/plain": [
       "array([[0]])"
      ]
     },
     "execution_count": 18,
     "metadata": {},
     "output_type": "execute_result"
    }
   ],
   "source": [
    "(lstm_model_2input.predict([tweet_tensor, others_col_std]) >= 0.5) * 1  "
   ]
  }
 ],
 "metadata": {
  "kernelspec": {
   "display_name": "Python 3 (ipykernel)",
   "language": "python",
   "name": "python3"
  },
  "language_info": {
   "codemirror_mode": {
    "name": "ipython",
    "version": 3
   },
   "file_extension": ".py",
   "mimetype": "text/x-python",
   "name": "python",
   "nbconvert_exporter": "python",
   "pygments_lexer": "ipython3",
   "version": "3.10.6"
  },
  "vscode": {
   "interpreter": {
    "hash": "916dbcbb3f70747c44a77c7bcd40155683ae19c65e1c03b4aa3499c5328201f1"
   }
  }
 },
 "nbformat": 4,
 "nbformat_minor": 2
}
