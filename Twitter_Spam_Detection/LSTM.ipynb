{
 "cells": [
  {
   "cell_type": "code",
   "execution_count": 60,
   "metadata": {},
   "outputs": [],
   "source": [
    "import utils, numpy, pandas, tensorflow\n",
    "from tensorflow import keras\n",
    "\n",
    "import sys\n",
    "sys.modules.pop('utils')\n",
    "import utils"
   ]
  },
  {
   "cell_type": "markdown",
   "metadata": {},
   "source": [
    "# Load Model"
   ]
  },
  {
   "cell_type": "code",
   "execution_count": 61,
   "metadata": {},
   "outputs": [],
   "source": [
    "max_tweet_length = 106    # from training\n",
    "inputA = keras.layers.Input(shape = (max_tweet_length,1), name = 'tokenised_tweets')\n",
    "x = keras.layers.LSTM(128, return_sequences=True)(inputA)\n",
    "x = keras.layers.LSTM(64)(x)\n",
    "# x = LSTM(128)(inputA)\n",
    "x = keras.layers.Dropout(0.2)(x)\n",
    "x = keras.layers.Dense(32, activation='relu')(x)\n",
    "\n",
    "\n",
    "inputB = keras.layers.Input(shape=(4,1), name='others')\n",
    "y = keras.layers.Flatten()(inputB)\n",
    "y = keras.layers.Dense(4, activation='relu')(y)\n",
    "\n",
    "combined = keras.layers.concatenate([x,y])\n",
    "output = keras.layers.Dense(32, activation='relu')(combined)\n",
    "output = keras.layers.Dropout(0.2)(output)\n",
    "output = keras.layers.Dense(1, activation='sigmoid')(output)\n",
    "lstm_model_2input = keras.models.Model([inputA, inputB], output)\n",
    "\n",
    "lstm_model_2input.compile(optimizer='adam', loss='binary_crossentropy', metrics=['accuracy'])\n",
    "\n",
    "\n",
    "lstm_model_2input.load_weights(\"LSTM_model_02_969.h5\")"
   ]
  },
  {
   "cell_type": "markdown",
   "metadata": {},
   "source": [
    "# Prepare data"
   ]
  },
  {
   "cell_type": "code",
   "execution_count": 65,
   "metadata": {},
   "outputs": [
    {
     "name": "stdout",
     "output_type": "stream",
     "text": [
      "0    aaaaa trump win twitter cash\n",
      "Name: tweet, dtype: object\n",
      "[[  41  219   14 1293    0    0    0    0    0    0    0    0    0    0\n",
      "     0    0    0    0    0    0    0    0    0    0    0    0    0    0\n",
      "     0    0    0    0    0    0    0    0    0    0    0    0    0    0\n",
      "     0    0    0    0    0    0    0    0    0    0    0    0    0    0\n",
      "     0    0    0    0    0    0    0    0    0    0    0    0    0    0\n",
      "     0    0    0    0    0    0    0    0    0    0    0    0    0    0\n",
      "     0    0    0    0    0    0    0    0    0    0    0    0    0    0\n",
      "     0    0    0    0    0    0    0    0]]\n",
      "(1, 106) (1, 106)\n",
      "   following  followers   actions  is_retweet\n",
      "0  -0.155196  -0.092808 -0.502874           1\n"
     ]
    }
   ],
   "source": [
    "single_input = {'tweet': ['aaaaa trump win twitter cash'],'following': [100], 'followers': [200], 'actions': [33], 'is_retweet':[1] }\n",
    "columns_to_be_standardised = ['following', 'followers', 'actions']\n",
    "input_df = pandas.DataFrame(data=single_input)\n",
    "sigma, mu, tokenizer = utils.load_pickle('sigma_train.pkl'), utils.load_pickle('mu_train.pkl'), utils.load_pickle('tokeniser_train.pkl')\n",
    "\n",
    "# Process 'tweet'\n",
    "tweet_las, tweet_tokenised = utils.tokenise(input_df['tweet'], tokenizer)\n",
    "tweet_tensor = tensorflow.convert_to_tensor(tweet_tokenised)\n",
    "print(tweet_las)\n",
    "print(tweet_tokenised)\n",
    "print(tweet_tokenised.shape, tweet_tensor.shape)\n",
    "\n",
    "# Process 'following' 'followers' 'actions' 'is_retweet'\n",
    "others_col_std = utils.standardise(input_df, mu, sigma, columns_to_be_standardised)\n",
    "others_col_std.drop(['tweet'], axis=1, inplace=True)\n",
    "print(others_col_std)\n"
   ]
  },
  {
   "cell_type": "markdown",
   "metadata": {},
   "source": [
    "# Predict\n",
    "\n",
    "## Spam is 1, Not Spam is 0"
   ]
  },
  {
   "cell_type": "code",
   "execution_count": 68,
   "metadata": {},
   "outputs": [
    {
     "name": "stdout",
     "output_type": "stream",
     "text": [
      "tf.Tensor(\n",
      "[[  41  219   14 1293    0    0    0    0    0    0    0    0    0    0\n",
      "     0    0    0    0    0    0    0    0    0    0    0    0    0    0\n",
      "     0    0    0    0    0    0    0    0    0    0    0    0    0    0\n",
      "     0    0    0    0    0    0    0    0    0    0    0    0    0    0\n",
      "     0    0    0    0    0    0    0    0    0    0    0    0    0    0\n",
      "     0    0    0    0    0    0    0    0    0    0    0    0    0    0\n",
      "     0    0    0    0    0    0    0    0    0    0    0    0    0    0\n",
      "     0    0    0    0    0    0    0    0]], shape=(1, 106), dtype=int32) \n",
      "\n",
      "    following  followers   actions  is_retweet\n",
      "0  -0.155196  -0.092808 -0.502874           1\n"
     ]
    }
   ],
   "source": [
    "print(tweet_tensor, '\\n\\n', others_col_std)"
   ]
  },
  {
   "cell_type": "code",
   "execution_count": 70,
   "metadata": {},
   "outputs": [
    {
     "name": "stdout",
     "output_type": "stream",
     "text": [
      "1/1 [==============================] - 0s 17ms/step\n"
     ]
    },
    {
     "data": {
      "text/plain": [
       "array([[0]])"
      ]
     },
     "execution_count": 70,
     "metadata": {},
     "output_type": "execute_result"
    }
   ],
   "source": [
    "(lstm_model_2input.predict([tweet_tensor, others_col_std]) >= 0.5) * 1  "
   ]
  }
 ],
 "metadata": {
  "kernelspec": {
   "display_name": "Python 3.10.6 64-bit",
   "language": "python",
   "name": "python3"
  },
  "language_info": {
   "codemirror_mode": {
    "name": "ipython",
    "version": 3
   },
   "file_extension": ".py",
   "mimetype": "text/x-python",
   "name": "python",
   "nbconvert_exporter": "python",
   "pygments_lexer": "ipython3",
   "version": "3.10.6"
  },
  "orig_nbformat": 4,
  "vscode": {
   "interpreter": {
    "hash": "916dbcbb3f70747c44a77c7bcd40155683ae19c65e1c03b4aa3499c5328201f1"
   }
  }
 },
 "nbformat": 4,
 "nbformat_minor": 2
}
